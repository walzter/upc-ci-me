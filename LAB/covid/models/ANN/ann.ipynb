{
 "cells": [
  {
   "cell_type": "code",
   "execution_count": 2,
   "metadata": {},
   "outputs": [],
   "source": [
    "# dependencies to load the data \n",
    "import pandas as pd\n",
    "import numpy as np "
   ]
  },
  {
   "cell_type": "code",
   "execution_count": 61,
   "metadata": {},
   "outputs": [],
   "source": [
    "import torch \n",
    "import torch.nn as nn\n",
    "from torch.utils.data import Dataset, DataLoader, TensorDataset"
   ]
  },
  {
   "cell_type": "code",
   "execution_count": 80,
   "metadata": {},
   "outputs": [
    {
     "name": "stdout",
     "output_type": "stream",
     "text": [
      "(2185, 30)\n"
     ]
    }
   ],
   "source": [
    "# loading the dataset \n",
    "ds = pd.read_csv('../preprocess/extracted_features_cleaned.csv')\n",
    "# loading the filepath + ID \n",
    "df = pd.read_csv('../preprocess/extracted_features.csv')\n",
    "# merging on the given KEY:= 'ID'\n",
    "df = df[['filename','ID']]\n",
    "ds_m = pd.merge(ds, df, on='ID')\n",
    "print(ds_m.shape)\n",
    "# removing the unwanted columns \n",
    "unwanted_cols = ds_m.columns.tolist()[0] #Unnamed: 0 is the column that is dropped \n",
    "ds_m = ds_m.drop(unwanted_cols, axis=1)\n",
    "# dropping the ID column as well \n",
    "# sepparating into X, Y \n",
    "ds_m.to_csv('CovidCoughDataset.csv')\n",
    "cols = [x for x in ds_m.columns if x not in ['num_label','ID','filename']]\n",
    "X = ds_m[cols]\n",
    "Y = ds_m[['filename','num_label']]\n",
    "X.to_csv('covid_dataset_features.csv',index_label=False)\n",
    "Y.to_csv('covid_dataset_labels.csv',index_label=False)"
   ]
  },
  {
   "cell_type": "code",
   "execution_count": 67,
   "metadata": {},
   "outputs": [],
   "source": [
    "# defining the paths\n",
    "DATA_PATH = './covid_dataset_labels.csv'\n",
    "LABEL_PATH = './covid_dataset_features.csv'\n",
    "# loading the data \n",
    "Y = pd.read_csv(DATA_PATH)\n",
    "X = pd.read_csv(LABEL_PATH)\n",
    "# making sure to only keep the values \n",
    "X_v = X.values\n",
    "Y_v = Y['num_label'].values\n"
   ]
  },
  {
   "cell_type": "code",
   "execution_count": 77,
   "metadata": {},
   "outputs": [],
   "source": [
    "# make the splits accordingly \n",
    "from sklearn.model_selection import train_test_split\n",
    "\n",
    "def train_test_val_split(X_values, Y_values,TRAIN_RATIO=0.70,VALIDATION_RATIO=0.15, TEST_RATIO=0.15, to_tensor=False):\n",
    "    '''\n",
    "    Args:\n",
    "        X_values (Matrix): Features \n",
    "        Y_values (Column Vector): Labels\n",
    "        TRAIN_RATIO (Float): % to split the Data into training - default = 0.70 or 70%\n",
    "        VALIDATION_RATIO (Float): % to split the data into validation - default = 0.15 or 15%\n",
    "        TEST_RATIO (Float): % to split the data into testing - default = 0.15 or 15%\n",
    "    Output:\n",
    "        Splitting the X_values and the Y_values according to: \n",
    "            - train_ratio\n",
    "            - validation_ratio \n",
    "            - test_ratio \n",
    "    '''\n",
    "    assert (TRAIN_RATIO + VALIDATION_RATIO + TEST_RATIO) == 1\n",
    "    \n",
    "    # This will use the percentage of the test_size approx to train the values \n",
    "    X_train, X_test, Y_train, Y_test = train_test_split(X_values, Y_values, test_size= 1 - TRAIN_RATIO)\n",
    "\n",
    "    # now we can get the validation set which is going to be 15% of the dataset\n",
    "    # testing is now 15% of the original dataset \n",
    "    X_val, X_test, Y_val, Y_test = train_test_split(X_test, Y_test, test_size = TEST_RATIO / (TEST_RATIO + VALIDATION_RATIO))\n",
    "\n",
    "    # grouping them for easier read\n",
    "    training,testing, validation = (X_train, Y_train),(X_test, Y_test),(X_val, Y_val)\n",
    "    \n",
    "    if to_tensor:\n",
    "        #training\n",
    "        \n",
    "        #testing\n",
    "        #validation\n",
    "        print(\"This should be a tensor\")\n",
    "        \n",
    "    return training, testing, validation\n"
   ]
  },
  {
   "cell_type": "code",
   "execution_count": 78,
   "metadata": {},
   "outputs": [],
   "source": [
    "# sepparating the splits \n",
    "(X_train, Y_train), (X_test,Y_test), (X_val, Y_val) = train_test_val_split(X_v, Y_v,\n",
    "                                                                           TRAIN_RATIO=0.70,\n",
    "                                                                           VALIDATION_RATIO=0.15,\n",
    "                                                                           TEST_RATIO=0.15,\n",
    "                                                                           to_tensor=False)"
   ]
  },
  {
   "cell_type": "code",
   "execution_count": 79,
   "metadata": {},
   "outputs": [
    {
     "data": {
      "text/plain": [
       "(1529, 26)"
      ]
     },
     "execution_count": 79,
     "metadata": {},
     "output_type": "execute_result"
    }
   ],
   "source": [
    "X_train.shape"
   ]
  },
  {
   "cell_type": "code",
   "execution_count": 64,
   "metadata": {},
   "outputs": [
    {
     "data": {
      "text/plain": [
       "(2185, 2185)"
      ]
     },
     "execution_count": 64,
     "metadata": {},
     "output_type": "execute_result"
    }
   ],
   "source": [
    "\n",
    "\n",
    "# putting the data into tensors\n",
    "input_tensor = torch.from_numpy(X.values)\n",
    "output_tensor = torch.tensor(Y['num_label'].values)\n",
    "\n",
    "# creating a tensor dataset\n"
   ]
  },
  {
   "cell_type": "code",
   "execution_count": null,
   "metadata": {},
   "outputs": [],
   "source": []
  }
 ],
 "metadata": {
  "interpreter": {
   "hash": "e1cc002895297553448f48b5d2a532953b0b364e71266cb823f5754d912d957c"
  },
  "kernelspec": {
   "display_name": "Python 3.7.4 64-bit ('dl_env': conda)",
   "language": "python",
   "name": "python3"
  },
  "language_info": {
   "codemirror_mode": {
    "name": "ipython",
    "version": 3
   },
   "file_extension": ".py",
   "mimetype": "text/x-python",
   "name": "python",
   "nbconvert_exporter": "python",
   "pygments_lexer": "ipython3",
   "version": "3.8.5"
  },
  "orig_nbformat": 4
 },
 "nbformat": 4,
 "nbformat_minor": 2
}
