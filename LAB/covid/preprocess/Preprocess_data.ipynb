{
 "cells": [
  {
   "cell_type": "code",
   "execution_count": null,
   "metadata": {},
   "outputs": [],
   "source": [
    "import os, glob\n",
    "from tqdm import tqdm \n",
    "import librosa\n",
    "import pathlib\n",
    "import matplotlib.pyplot as plt\n",
    "import csv "
   ]
  },
  {
   "cell_type": "code",
   "execution_count": 19,
   "metadata": {},
   "outputs": [
    {
     "name": "stderr",
     "output_type": "stream",
     "text": [
      "  0%|          | 1/430 [00:00<02:39,  2.68it/s]/Users/Eric/opt/anaconda3/lib/python3.8/site-packages/matplotlib/axes/_axes.py:7544: RuntimeWarning: divide by zero encountered in log10\n",
      "  Z = 10. * np.log10(spec)\n",
      "  6%|▋         | 27/430 [00:16<03:51,  1.74it/s]/Users/Eric/opt/anaconda3/lib/python3.8/site-packages/matplotlib/image.py:446: UserWarning: Warning: converting a masked element to nan.\n",
      "  dv = np.float64(self.norm.vmax) - np.float64(self.norm.vmin)\n",
      "/Users/Eric/opt/anaconda3/lib/python3.8/site-packages/matplotlib/image.py:453: UserWarning: Warning: converting a masked element to nan.\n",
      "  a_min = np.float64(newmin)\n",
      "/Users/Eric/opt/anaconda3/lib/python3.8/site-packages/matplotlib/image.py:458: UserWarning: Warning: converting a masked element to nan.\n",
      "  a_max = np.float64(newmax)\n",
      "/Users/Eric/opt/anaconda3/lib/python3.8/site-packages/matplotlib/image.py:477: UserWarning: Warning: converting a masked element to nan.\n",
      "  vrange = np.array([self.norm.vmin, self.norm.vmax],\n",
      " 10%|█         | 45/430 [00:27<03:40,  1.75it/s]<ipython-input-19-7a07483dcb78>:9: UserWarning: Only one segment is calculated since parameter NFFT (=2048) >= signal length (=1882).\n",
      "  plt.specgram(x, NFFT=2048, Fs=2, Fc=0, noverlap=128, cmap='inferno', sides='default', mode='default', scale='dB');\n",
      " 98%|█████████▊| 420/430 [03:29<00:03,  2.56it/s]"
     ]
    },
    {
     "name": "stdout",
     "output_type": "stream",
     "text": [
      "Input signal length=0 is too small to resample from 48000->22050\n"
     ]
    },
    {
     "name": "stderr",
     "output_type": "stream",
     "text": [
      "100%|██████████| 430/430 [03:33<00:00,  2.01it/s]\n",
      "  3%|▎         | 52/1652 [00:35<42:25,  1.59s/it]"
     ]
    },
    {
     "name": "stdout",
     "output_type": "stream",
     "text": [
      "Input signal length=0 is too small to resample from 16000->22050\n"
     ]
    },
    {
     "name": "stderr",
     "output_type": "stream",
     "text": [
      "  4%|▍         | 70/1652 [00:46<15:41,  1.68it/s]"
     ]
    },
    {
     "name": "stdout",
     "output_type": "stream",
     "text": [
      "Input signal length=0 is too small to resample from 16000->22050\n"
     ]
    },
    {
     "name": "stderr",
     "output_type": "stream",
     "text": [
      " 16%|█▌        | 262/1652 [02:18<11:35,  2.00it/s]"
     ]
    },
    {
     "name": "stdout",
     "output_type": "stream",
     "text": [
      "Input signal length=0 is too small to resample from 16000->22050\n"
     ]
    },
    {
     "name": "stderr",
     "output_type": "stream",
     "text": [
      " 16%|█▋        | 271/1652 [02:21<11:30,  2.00it/s]"
     ]
    },
    {
     "name": "stdout",
     "output_type": "stream",
     "text": [
      "Input signal length=0 is too small to resample from 16000->22050\n"
     ]
    },
    {
     "name": "stderr",
     "output_type": "stream",
     "text": [
      " 19%|█▉        | 321/1652 [02:44<11:20,  1.96it/s]"
     ]
    },
    {
     "name": "stdout",
     "output_type": "stream",
     "text": [
      "Input signal length=0 is too small to resample from 16000->22050\n"
     ]
    },
    {
     "name": "stderr",
     "output_type": "stream",
     "text": [
      " 22%|██▏       | 363/1652 [03:03<09:37,  2.23it/s]"
     ]
    },
    {
     "name": "stdout",
     "output_type": "stream",
     "text": [
      "Input signal length=0 is too small to resample from 48000->22050\n"
     ]
    },
    {
     "name": "stderr",
     "output_type": "stream",
     "text": [
      " 24%|██▍       | 402/1652 [03:20<09:42,  2.14it/s]"
     ]
    },
    {
     "name": "stdout",
     "output_type": "stream",
     "text": [
      "Input signal length=0 is too small to resample from 16000->22050\n"
     ]
    },
    {
     "name": "stderr",
     "output_type": "stream",
     "text": [
      " 28%|██▊       | 459/1652 [03:43<07:02,  2.82it/s]"
     ]
    },
    {
     "name": "stdout",
     "output_type": "stream",
     "text": [
      "Input signal length=0 is too small to resample from 16000->22050\n"
     ]
    },
    {
     "name": "stderr",
     "output_type": "stream",
     "text": [
      " 28%|██▊       | 461/1652 [03:44<06:36,  3.00it/s]"
     ]
    },
    {
     "name": "stdout",
     "output_type": "stream",
     "text": [
      "Input signal length=0 is too small to resample from 16000->22050\n"
     ]
    },
    {
     "name": "stderr",
     "output_type": "stream",
     "text": [
      " 37%|███▋      | 606/1652 [04:54<08:07,  2.15it/s]"
     ]
    },
    {
     "name": "stdout",
     "output_type": "stream",
     "text": [
      "Input signal length=0 is too small to resample from 16000->22050\n"
     ]
    },
    {
     "name": "stderr",
     "output_type": "stream",
     "text": [
      " 37%|███▋      | 608/1652 [04:54<06:48,  2.55it/s]"
     ]
    },
    {
     "name": "stdout",
     "output_type": "stream",
     "text": [
      "Input signal length=0 is too small to resample from 16000->22050\n"
     ]
    },
    {
     "name": "stderr",
     "output_type": "stream",
     "text": [
      " 37%|███▋      | 613/1652 [04:55<06:08,  2.82it/s]"
     ]
    },
    {
     "name": "stdout",
     "output_type": "stream",
     "text": [
      "Input signal length=0 is too small to resample from 16000->22050\n"
     ]
    },
    {
     "name": "stderr",
     "output_type": "stream",
     "text": [
      " 41%|████▏     | 684/1652 [05:38<12:58,  1.24it/s]"
     ]
    },
    {
     "name": "stdout",
     "output_type": "stream",
     "text": [
      "Input signal length=0 is too small to resample from 48000->22050\n"
     ]
    },
    {
     "name": "stderr",
     "output_type": "stream",
     "text": [
      " 43%|████▎     | 717/1652 [06:00<09:15,  1.68it/s]"
     ]
    },
    {
     "name": "stdout",
     "output_type": "stream",
     "text": [
      "Input signal length=0 is too small to resample from 48000->22050\n"
     ]
    },
    {
     "name": "stderr",
     "output_type": "stream",
     "text": [
      " 51%|█████     | 846/1652 [07:00<04:56,  2.72it/s]"
     ]
    },
    {
     "name": "stdout",
     "output_type": "stream",
     "text": [
      "Input signal length=0 is too small to resample from 16000->22050\n"
     ]
    },
    {
     "name": "stderr",
     "output_type": "stream",
     "text": [
      " 54%|█████▍    | 893/1652 [07:21<05:28,  2.31it/s]"
     ]
    },
    {
     "name": "stdout",
     "output_type": "stream",
     "text": [
      "Input signal length=0 is too small to resample from 16000->22050\n"
     ]
    },
    {
     "name": "stderr",
     "output_type": "stream",
     "text": [
      " 62%|██████▏   | 1026/1652 [08:19<05:06,  2.04it/s]"
     ]
    },
    {
     "name": "stdout",
     "output_type": "stream",
     "text": [
      "Input signal length=0 is too small to resample from 48000->22050\n"
     ]
    },
    {
     "name": "stderr",
     "output_type": "stream",
     "text": [
      " 66%|██████▋   | 1095/1652 [08:49<04:54,  1.89it/s]"
     ]
    },
    {
     "name": "stdout",
     "output_type": "stream",
     "text": [
      "Input signal length=0 is too small to resample from 16000->22050\n"
     ]
    },
    {
     "name": "stderr",
     "output_type": "stream",
     "text": [
      " 75%|███████▌  | 1239/1652 [09:48<03:29,  1.98it/s]"
     ]
    },
    {
     "name": "stdout",
     "output_type": "stream",
     "text": [
      "Input signal length=0 is too small to resample from 48000->22050\n"
     ]
    },
    {
     "name": "stderr",
     "output_type": "stream",
     "text": [
      " 79%|███████▉  | 1305/1652 [10:19<02:38,  2.19it/s]"
     ]
    },
    {
     "name": "stdout",
     "output_type": "stream",
     "text": [
      "Input signal length=0 is too small to resample from 48000->22050\n"
     ]
    },
    {
     "name": "stderr",
     "output_type": "stream",
     "text": [
      " 83%|████████▎ | 1370/1652 [10:46<01:47,  2.63it/s]"
     ]
    },
    {
     "name": "stdout",
     "output_type": "stream",
     "text": [
      "Input signal length=0 is too small to resample from 16000->22050\n"
     ]
    },
    {
     "name": "stderr",
     "output_type": "stream",
     "text": [
      " 84%|████████▍ | 1387/1652 [10:53<02:00,  2.19it/s]"
     ]
    },
    {
     "name": "stdout",
     "output_type": "stream",
     "text": [
      "Input signal length=0 is too small to resample from 16000->22050\n"
     ]
    },
    {
     "name": "stderr",
     "output_type": "stream",
     "text": [
      " 84%|████████▍ | 1394/1652 [10:55<01:59,  2.17it/s]"
     ]
    },
    {
     "name": "stdout",
     "output_type": "stream",
     "text": [
      "Input signal length=0 is too small to resample from 16000->22050\n"
     ]
    },
    {
     "name": "stderr",
     "output_type": "stream",
     "text": [
      " 87%|████████▋ | 1440/1652 [11:25<02:17,  1.54it/s]"
     ]
    },
    {
     "name": "stdout",
     "output_type": "stream",
     "text": [
      "Input signal length=0 is too small to resample from 16000->22050\n"
     ]
    },
    {
     "name": "stderr",
     "output_type": "stream",
     "text": [
      " 92%|█████████▏| 1527/1652 [12:18<00:51,  2.41it/s]"
     ]
    },
    {
     "name": "stdout",
     "output_type": "stream",
     "text": [
      "Input signal length=0 is too small to resample from 16000->22050\n"
     ]
    },
    {
     "name": "stderr",
     "output_type": "stream",
     "text": [
      " 93%|█████████▎| 1539/1652 [12:24<00:51,  2.18it/s]"
     ]
    },
    {
     "name": "stdout",
     "output_type": "stream",
     "text": [
      "Input signal length=0 is too small to resample from 48000->22050\n"
     ]
    },
    {
     "name": "stderr",
     "output_type": "stream",
     "text": [
      " 96%|█████████▌| 1582/1652 [12:44<00:32,  2.17it/s]"
     ]
    },
    {
     "name": "stdout",
     "output_type": "stream",
     "text": [
      "Input signal length=0 is too small to resample from 16000->22050\n"
     ]
    },
    {
     "name": "stderr",
     "output_type": "stream",
     "text": [
      " 98%|█████████▊| 1614/1652 [12:58<00:19,  1.91it/s]"
     ]
    },
    {
     "name": "stdout",
     "output_type": "stream",
     "text": [
      "Input signal length=0 is too small to resample from 48000->22050\n"
     ]
    },
    {
     "name": "stderr",
     "output_type": "stream",
     "text": [
      "100%|██████████| 1652/1652 [13:14<00:00,  2.08it/s]\n",
      " 27%|██▋       | 41/151 [00:32<01:10,  1.56it/s]"
     ]
    },
    {
     "name": "stdout",
     "output_type": "stream",
     "text": [
      "Input signal length=0 is too small to resample from 48000->22050\n"
     ]
    },
    {
     "name": "stderr",
     "output_type": "stream",
     "text": [
      " 81%|████████  | 122/151 [01:15<00:14,  2.00it/s]"
     ]
    },
    {
     "name": "stdout",
     "output_type": "stream",
     "text": [
      "Input signal length=0 is too small to resample from 16000->22050\n",
      "Input signal length=0 is too small to resample from 16000->22050\n"
     ]
    },
    {
     "name": "stderr",
     "output_type": "stream",
     "text": [
      " 95%|█████████▌| 144/151 [01:27<00:03,  2.26it/s]"
     ]
    },
    {
     "name": "stdout",
     "output_type": "stream",
     "text": [
      "Input signal length=0 is too small to resample from 48000->22050\n"
     ]
    },
    {
     "name": "stderr",
     "output_type": "stream",
     "text": [
      "100%|██████████| 151/151 [01:29<00:00,  1.68it/s]"
     ]
    },
    {
     "name": "stdout",
     "output_type": "stream",
     "text": [
      "Input signal length=0 is too small to resample from 48000->22050\n"
     ]
    },
    {
     "name": "stderr",
     "output_type": "stream",
     "text": [
      "\n"
     ]
    },
    {
     "data": {
      "text/plain": [
       "<Figure size 432x288 with 0 Axes>"
      ]
     },
     "metadata": {},
     "output_type": "display_data"
    }
   ],
   "source": [
    "# making a mel-spectrogram from the audio samples \n",
    "# saving in specified spectrogram folder \n",
    "audio_path = '/Users/Eric/Documents/Uni/Msc/Courses/Sem1/CI/LAB/covid/data/Audio_samples/*/*'\n",
    "results = ['Positive', 'Negative', 'Unknown']\n",
    "for res in results:\n",
    "    pathlib.Path(f\"./data/Spectrograms/{res}\").mkdir(parents=True, exist_ok=True)\n",
    "    for files in tqdm(glob.glob(f'./data/Audio_samples/{res}/*')):\n",
    "        try:\n",
    "            x,r = librosa.load(files, mono=True)\n",
    "            new_name = files.split('/')[-1].split('.')[-2]\n",
    "            plt.specgram(x, NFFT=2048, Fs=2, Fc=0, noverlap=128, cmap='inferno', sides='default', mode='default', scale='dB');\n",
    "            plt.axis('off');\n",
    "            plt.savefig(f\"./data/Spectrograms/{res}/{new_name}.png\");\n",
    "            plt.clf();\n",
    "        except Exception as e: \n",
    "            print(e)\n",
    "            pass"
   ]
  },
  {
   "cell_type": "code",
   "execution_count": 48,
   "metadata": {},
   "outputs": [
    {
     "name": "stderr",
     "output_type": "stream",
     "text": [
      "  6%|▋         | 27/430 [00:11<02:11,  3.07it/s]/Users/Eric/opt/anaconda3/lib/python3.8/site-packages/librosa/core/pitch.py:153: UserWarning: Trying to estimate tuning from empty frequency set.\n",
      "  warnings.warn(\"Trying to estimate tuning from empty frequency set.\")\n",
      " 10%|█         | 45/430 [00:17<02:16,  2.82it/s]/Users/Eric/opt/anaconda3/lib/python3.8/site-packages/librosa/core/spectrum.py:222: UserWarning: n_fft=2048 is too small for input signal of length=1882\n",
      "  warnings.warn(\n",
      "100%|██████████| 430/430 [02:55<00:00,  2.44it/s]\n",
      "100%|██████████| 1652/1652 [16:43<00:00,  1.65it/s]\n",
      "100%|██████████| 151/151 [02:24<00:00,  1.05it/s]\n"
     ]
    }
   ],
   "source": [
    "header = 'filename ID chroma_stft rmse spectral_centroid spectral_bandwidth rolloff zero_crossing_rate'\n",
    "for x in range(1, 21):\n",
    "    header += f\" mfcc{x}\"\n",
    "header += ' label'\n",
    "header = header.split()\n",
    "#create and write to file\n",
    "file = open('extracted_features.csv', 'w', newline=\"\")\n",
    "with file: \n",
    "    writer = csv.writer(file)\n",
    "    writer.writerow(header)\n",
    "results = ['Positive', 'Negative','Unknown']\n",
    "for res in results: \n",
    "    for files in tqdm(os.listdir(f\"./data/Audio_samples/{res}\")):\n",
    "        patient_id = files.split(\"_\")[0]\n",
    "        filename = f\"./data/Audio_samples/{res}/{files}\"\n",
    "        try:\n",
    "            x, sr = librosa.load(filename, mono=True)\n",
    "        except Exception as e: \n",
    "            pass\n",
    "        rmse = librosa.feature.rms(y=x)\n",
    "        chroma_stft = librosa.feature.chroma_stft(y=x, sr=sr)\n",
    "        spec_cent = librosa.feature.spectral_centroid(y=x, sr=sr)\n",
    "        spec_bw = librosa.feature.spectral_bandwidth(y=x, sr=sr)\n",
    "        rolloff = librosa.feature.spectral_rolloff(y=x, sr=sr)\n",
    "        zcr = librosa.feature.zero_crossing_rate(x)\n",
    "        mfcc = librosa.feature.mfcc(y=x, sr=sr)\n",
    "        to_append = f'{filename} {patient_id} {np.mean(chroma_stft)} {np.mean(rmse)} {np.mean(spec_cent)} {np.mean(spec_bw)} {np.mean(rolloff)} {np.mean(zcr)}'    \n",
    "        for k in mfcc:\n",
    "            to_append += f' {np.mean(k)}'\n",
    "        to_append += f' {res}'\n",
    "        file = open('extracted_features.csv', 'a', newline='')\n",
    "        with file:\n",
    "            writer = csv.writer(file)\n",
    "            writer.writerow(to_append.split())"
   ]
  },
  {
   "cell_type": "code",
   "execution_count": 101,
   "metadata": {},
   "outputs": [
    {
     "data": {
      "text/plain": [
       "Negative    1627\n",
       "Positive     419\n",
       "Unknown      139\n",
       "Name: label, dtype: int64"
      ]
     },
     "execution_count": 101,
     "metadata": {},
     "output_type": "execute_result"
    }
   ],
   "source": [
    "import pandas as pd\n",
    "FILE = '/Users/Eric/Documents/Uni/Msc/Courses/Sem1/CI/LAB/covid/extracted_features.csv'\n",
    "df = pd.read_csv(FILE)\n",
    "df_tmp = df[df != 0]\n",
    "df_clean = df_tmp.copy().dropna(axis='index',how='any')\n",
    "num_cols_lost = abs(df_clean.shape[0] - df_tmp.shape[0])\n",
    "df_clean['label'].value_counts()"
   ]
  },
  {
   "cell_type": "code",
   "execution_count": 127,
   "metadata": {},
   "outputs": [],
   "source": [
    "ids = df_clean.label.unique()\n",
    "ls = [0,1,2]\n",
    "mapped = dict(zip(ids, ls))\n",
    "df_clean['num_label'] = df_clean.label.map(mapped)\n",
    "mask = ['filename','label']\n",
    "kk = df_clean.columns.tolist()\n",
    "kk.remove('filename')\n",
    "kk.remove('label')\n",
    "df_to_save = df_clean[kk]\n",
    "df_to_save.to_csv('audio_features.csv')\n"
   ]
  },
  {
   "cell_type": "code",
   "execution_count": null,
   "metadata": {},
   "outputs": [],
   "source": [
    "\n",
    "#m = df % 3 == 0\n",
    "#df.where(m, -df)\n",
    "df_tmp = df[df_numb_cols].copy()\n",
    "mask = df_tmp !=0\n",
    "df_tmp.where(mask,df_tmp,inplace=True)\n",
    "df_tmp.dropni(axis=0,how='all')"
   ]
  },
  {
   "cell_type": "code",
   "execution_count": null,
   "metadata": {},
   "outputs": [],
   "source": []
  }
 ],
 "metadata": {
  "interpreter": {
   "hash": "d7b0227df9456bca28f69aef5d39629306c490f3d5d6e0ff9d2fd6f7d7f6a539"
  },
  "kernelspec": {
   "display_name": "Python 3.8.12 64-bit ('base': conda)",
   "language": "python",
   "name": "python3"
  },
  "language_info": {
   "codemirror_mode": {
    "name": "ipython",
    "version": 3
   },
   "file_extension": ".py",
   "mimetype": "text/x-python",
   "name": "python",
   "nbconvert_exporter": "python",
   "pygments_lexer": "ipython3",
   "version": "3.8.12"
  },
  "orig_nbformat": 4
 },
 "nbformat": 4,
 "nbformat_minor": 2
}
